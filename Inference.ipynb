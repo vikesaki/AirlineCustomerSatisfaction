{
 "cells": [
  {
   "cell_type": "code",
   "execution_count": 1,
   "id": "9f046723",
   "metadata": {},
   "outputs": [],
   "source": [
    "# Dataset storage\n",
    "import pandas as pd\n",
    "\n",
    "# Model saving\n",
    "import pickle\n",
    "\n",
    "import warnings\n",
    "warnings.filterwarnings('ignore') #turn off warning"
   ]
  },
  {
   "cell_type": "markdown",
   "id": "95e6409b",
   "metadata": {},
   "source": [
    "---\n",
    "# Model Inference"
   ]
  },
  {
   "cell_type": "markdown",
   "id": "679884d2",
   "metadata": {},
   "source": [
    "case - Predicting whether the customer is satisfied with the service based on the survey they filled after the flight"
   ]
  },
  {
   "cell_type": "markdown",
   "id": "2c58ef62",
   "metadata": {},
   "source": [
    "## Importing model"
   ]
  },
  {
   "cell_type": "code",
   "execution_count": 2,
   "id": "98389d56",
   "metadata": {},
   "outputs": [],
   "source": [
    "with open('model_xgb.pkl', 'rb') as file:\n",
    "  model = pickle.load(file) # type:ignore"
   ]
  },
  {
   "cell_type": "markdown",
   "id": "3a88a69f",
   "metadata": {},
   "source": [
    "## Making Function to Interpet the Result"
   ]
  },
  {
   "cell_type": "code",
   "execution_count": 3,
   "id": "ecee9220",
   "metadata": {},
   "outputs": [],
   "source": [
    "def interpretation (prediction):\n",
    "    try :\n",
    "        value = prediction[0]\n",
    "        match prediction :\n",
    "            case 0 :\n",
    "                return \"Neutral or Dissatisfied\"\n",
    "            case 1 :\n",
    "                return \"Satisfied\"\n",
    "    except Exception as e:\n",
    "            print(f'Error occurred: {e}')\n",
    "            return"
   ]
  },
  {
   "cell_type": "markdown",
   "id": "796b6038",
   "metadata": {},
   "source": [
    "## New User Case"
   ]
  },
  {
   "cell_type": "markdown",
   "id": "ea532c91",
   "metadata": {},
   "source": [
    "### Define specification for prediction"
   ]
  },
  {
   "cell_type": "code",
   "execution_count": 4,
   "id": "1b9e5ae6",
   "metadata": {},
   "outputs": [
    {
     "data": {
      "text/html": [
       "<div>\n",
       "<style scoped>\n",
       "    .dataframe tbody tr th:only-of-type {\n",
       "        vertical-align: middle;\n",
       "    }\n",
       "\n",
       "    .dataframe tbody tr th {\n",
       "        vertical-align: top;\n",
       "    }\n",
       "\n",
       "    .dataframe thead th {\n",
       "        text-align: right;\n",
       "    }\n",
       "</style>\n",
       "<table border=\"1\" class=\"dataframe\">\n",
       "  <thead>\n",
       "    <tr style=\"text-align: right;\">\n",
       "      <th></th>\n",
       "      <th>Gender</th>\n",
       "      <th>Customer Type</th>\n",
       "      <th>Age</th>\n",
       "      <th>Type of Travel</th>\n",
       "      <th>Class</th>\n",
       "      <th>Flight Distance</th>\n",
       "      <th>Inflight wifi service</th>\n",
       "      <th>Departure/Arrival time convenient</th>\n",
       "      <th>Ease of Online booking</th>\n",
       "      <th>Gate location</th>\n",
       "      <th>...</th>\n",
       "      <th>Seat comfort</th>\n",
       "      <th>Inflight entertainment</th>\n",
       "      <th>On-board service</th>\n",
       "      <th>Leg room service</th>\n",
       "      <th>Baggage handling</th>\n",
       "      <th>Checkin service</th>\n",
       "      <th>Inflight service</th>\n",
       "      <th>Cleanliness</th>\n",
       "      <th>Departure Delay in Minutes</th>\n",
       "      <th>Arrival Delay in Minutes</th>\n",
       "    </tr>\n",
       "  </thead>\n",
       "  <tbody>\n",
       "    <tr>\n",
       "      <th>0</th>\n",
       "      <td>Male</td>\n",
       "      <td>Loyal Customer</td>\n",
       "      <td>45</td>\n",
       "      <td>Business travel</td>\n",
       "      <td>Eco Plus</td>\n",
       "      <td>1500</td>\n",
       "      <td>4</td>\n",
       "      <td>3</td>\n",
       "      <td>4</td>\n",
       "      <td>3</td>\n",
       "      <td>...</td>\n",
       "      <td>3</td>\n",
       "      <td>4</td>\n",
       "      <td>4</td>\n",
       "      <td>3</td>\n",
       "      <td>5</td>\n",
       "      <td>4</td>\n",
       "      <td>4</td>\n",
       "      <td>4</td>\n",
       "      <td>5</td>\n",
       "      <td>10.0</td>\n",
       "    </tr>\n",
       "  </tbody>\n",
       "</table>\n",
       "<p>1 rows × 22 columns</p>\n",
       "</div>"
      ],
      "text/plain": [
       "  Gender   Customer Type  Age   Type of Travel     Class  Flight Distance  \\\n",
       "0   Male  Loyal Customer   45  Business travel  Eco Plus             1500   \n",
       "\n",
       "   Inflight wifi service  Departure/Arrival time convenient  \\\n",
       "0                      4                                  3   \n",
       "\n",
       "   Ease of Online booking  Gate location  ...  Seat comfort  \\\n",
       "0                       4              3  ...             3   \n",
       "\n",
       "   Inflight entertainment  On-board service  Leg room service  \\\n",
       "0                       4                 4                 3   \n",
       "\n",
       "   Baggage handling  Checkin service  Inflight service  Cleanliness  \\\n",
       "0                 5                4                 4            4   \n",
       "\n",
       "   Departure Delay in Minutes  Arrival Delay in Minutes  \n",
       "0                           5                      10.0  \n",
       "\n",
       "[1 rows x 22 columns]"
      ]
     },
     "execution_count": 4,
     "metadata": {},
     "output_type": "execute_result"
    }
   ],
   "source": [
    "data = {\n",
    "    'Gender': 'Male',\n",
    "    'Customer Type': 'Loyal Customer',\n",
    "    'Age': 45,\n",
    "    'Type of Travel': 'Business travel',\n",
    "    'Class': 'Eco Plus',\n",
    "    'Flight Distance': 1500,\n",
    "    'Inflight wifi service': 4,\n",
    "    'Departure/Arrival time convenient': 3,\n",
    "    'Ease of Online booking': 4,\n",
    "    'Gate location': 3,\n",
    "    'Food and drink': 4,\n",
    "    'Online boarding': 5,\n",
    "    'Seat comfort': 3,\n",
    "    'Inflight entertainment': 4,\n",
    "    'On-board service': 4,\n",
    "    'Leg room service': 3,\n",
    "    'Baggage handling': 5,\n",
    "    'Checkin service': 4,\n",
    "    'Inflight service': 4,\n",
    "    'Cleanliness': 4,\n",
    "    'Departure Delay in Minutes': 5,\n",
    "    'Arrival Delay in Minutes': 10.0\n",
    "\n",
    "}\n",
    "data = pd.DataFrame([data]) # type:ignore\n",
    "data"
   ]
  },
  {
   "cell_type": "code",
   "execution_count": 5,
   "id": "25df4e3c",
   "metadata": {},
   "outputs": [
    {
     "name": "stdout",
     "output_type": "stream",
     "text": [
      "<class 'pandas.core.frame.DataFrame'>\n",
      "RangeIndex: 1 entries, 0 to 0\n",
      "Data columns (total 22 columns):\n",
      " #   Column                             Non-Null Count  Dtype  \n",
      "---  ------                             --------------  -----  \n",
      " 0   Gender                             1 non-null      object \n",
      " 1   Customer Type                      1 non-null      object \n",
      " 2   Age                                1 non-null      int64  \n",
      " 3   Type of Travel                     1 non-null      object \n",
      " 4   Class                              1 non-null      object \n",
      " 5   Flight Distance                    1 non-null      int64  \n",
      " 6   Inflight wifi service              1 non-null      int64  \n",
      " 7   Departure/Arrival time convenient  1 non-null      int64  \n",
      " 8   Ease of Online booking             1 non-null      int64  \n",
      " 9   Gate location                      1 non-null      int64  \n",
      " 10  Food and drink                     1 non-null      int64  \n",
      " 11  Online boarding                    1 non-null      int64  \n",
      " 12  Seat comfort                       1 non-null      int64  \n",
      " 13  Inflight entertainment             1 non-null      int64  \n",
      " 14  On-board service                   1 non-null      int64  \n",
      " 15  Leg room service                   1 non-null      int64  \n",
      " 16  Baggage handling                   1 non-null      int64  \n",
      " 17  Checkin service                    1 non-null      int64  \n",
      " 18  Inflight service                   1 non-null      int64  \n",
      " 19  Cleanliness                        1 non-null      int64  \n",
      " 20  Departure Delay in Minutes         1 non-null      int64  \n",
      " 21  Arrival Delay in Minutes           1 non-null      float64\n",
      "dtypes: float64(1), int64(17), object(4)\n",
      "memory usage: 308.0+ bytes\n"
     ]
    }
   ],
   "source": [
    "data.info() # type: ignore"
   ]
  },
  {
   "cell_type": "markdown",
   "id": "09396fd0",
   "metadata": {},
   "source": [
    "### Prediction"
   ]
  },
  {
   "cell_type": "code",
   "execution_count": 6,
   "id": "73f28fea",
   "metadata": {},
   "outputs": [
    {
     "name": "stdout",
     "output_type": "stream",
     "text": [
      "Prediction :  [1] - Satisfied\n"
     ]
    }
   ],
   "source": [
    "prediction = model.predict(data)\n",
    "print('Prediction : ',prediction, '-', interpretation(prediction))"
   ]
  },
  {
   "cell_type": "markdown",
   "id": "978c9db0",
   "metadata": {},
   "source": [
    "Based on our model, we will say that with based on the survey given to the customer, **The Customer is satisfied with the service**"
   ]
  }
 ],
 "metadata": {
  "kernelspec": {
   "display_name": "venv",
   "language": "python",
   "name": "python3"
  },
  "language_info": {
   "codemirror_mode": {
    "name": "ipython",
    "version": 3
   },
   "file_extension": ".py",
   "mimetype": "text/x-python",
   "name": "python",
   "nbconvert_exporter": "python",
   "pygments_lexer": "ipython3",
   "version": "3.12.7"
  }
 },
 "nbformat": 4,
 "nbformat_minor": 5
}
